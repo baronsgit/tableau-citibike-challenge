{
 "cells": [
  {
   "cell_type": "code",
   "execution_count": 3,
   "metadata": {},
   "outputs": [],
   "source": [
    "import requests as req\n",
    "import json as js\n",
    "from geopy.geocoders import Nominatim\n",
    "\n",
    "# def get_city_zip(lat, lon):\n",
    "#     geolocator = Nominatim(user_agent=\"myGeocoder\")\n",
    "#     location = geolocator.reverse(str(lat) + \",\" + str(lon))\n",
    "#     address = location.raw['address']\n",
    "#     city = address.get('city', '')\n",
    "#     zipcode = address.get('postcode', '')\n",
    "#     return city, zipcode"
   ]
  },
  {
   "cell_type": "code",
   "execution_count": 4,
   "metadata": {},
   "outputs": [
    {
     "name": "stdout",
     "output_type": "stream",
     "text": [
      "('Jersey City', '07302')\n"
     ]
    }
   ],
   "source": [
    "import AppHelpers as ah\n",
    "import pandas as pd\n",
    "\n",
    "cityzip = ah.get_city_zip(40.71958611647166, -74.04311746358871)\n",
    "print(cityzip)\n",
    "\n",
    "# write a function that loops through a dataframe and returns a list of city, zip tuples\n",
    "def get_city_zip_list(df):\n",
    "    city_zip_list = []\n",
    "    for index, row in df.iterrows():\n",
    "        city_zip_list.append(ah.get_city_zip(row['latitude'], row['longitude']))\n",
    "    return city_zip_list"
   ]
  }
 ],
 "metadata": {
  "kernelspec": {
   "display_name": "Python 3",
   "language": "python",
   "name": "python3"
  },
  "language_info": {
   "codemirror_mode": {
    "name": "ipython",
    "version": 3
   },
   "file_extension": ".py",
   "mimetype": "text/x-python",
   "name": "python",
   "nbconvert_exporter": "python",
   "pygments_lexer": "ipython3",
   "version": "3.11.3"
  },
  "orig_nbformat": 4
 },
 "nbformat": 4,
 "nbformat_minor": 2
}
