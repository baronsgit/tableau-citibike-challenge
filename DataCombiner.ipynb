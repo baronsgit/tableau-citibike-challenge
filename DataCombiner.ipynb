{
 "cells": [
  {
   "cell_type": "code",
   "execution_count": 24,
   "metadata": {},
   "outputs": [],
   "source": [
    "import pandas as pd\n",
    "from pathlib import Path\n",
    "import AppHelpers as ah"
   ]
  },
  {
   "cell_type": "code",
   "execution_count": 15,
   "metadata": {},
   "outputs": [],
   "source": [
    "jan_data_path = Path(\"Data/JC-202001-citibike-tripdata.csv\")\n",
    "feb_data_path = Path(\"Data/JC-202002-citibike-tripdata.csv\")\n",
    "mar_data_path = Path(\"Data/JC-202003-citibike-tripdata.csv\")\n",
    "apr_data_path = Path(\"Data/JC-202004-citibike-tripdata.csv\")\n",
    "may_data_path = Path(\"Data/JC-202005-citibike-tripdata.csv\")\n",
    "\n",
    "jan_data = pd.read_csv(jan_data_path)\n",
    "feb_data = pd.read_csv(feb_data_path)\n",
    "mar_data = pd.read_csv(mar_data_path)\n",
    "apr_data = pd.read_csv(apr_data_path)\n",
    "may_data = pd.read_csv(may_data_path)\n",
    "\n",
    "combined_feb_may = pd.read_csv(Path(\"Data/combined_feb_may.csv\"))\n",
    "\n",
    "# Combine all data into a single DataFrame\n",
    "combined_data = pd.concat([feb_data, mar_data, apr_data, may_data], ignore_index=True)\n",
    "\n",
    "# add month column as first column and name it based on the month in the starttime column\n",
    "combined_data.insert(0, \"Month\", combined_data['starttime'].str[5:7])\n",
    "# convert month column value to full month name\n",
    "combined_data['Month'] = combined_data['Month'].replace(['02', '03', '04', '05'], ['Feb', 'Mar', 'Apr', 'May'])\n",
    "\n",
    "# add city column as second column and name it based on the start station latitude and start station longitude columns\n",
    "# combined_data.insert(1, \"City\", combined_data['start station latitude'].map(str) + \", \" + combined_data['start station longitude'].map(str))\n",
    "\n",
    "# add zip code column as third column and name it based on the start station latitude and start station longitude columns\n",
    "# combined_data.insert(2, \"ZipCode\", combined_data['start station latitude'].map(str) + \", \" + combined_data['start station longitude'].map(str))\n",
    "\n",
    "# add city column as second column and add zip column as third column\n",
    "combined_data.insert(1, \"City\",\"\")\n",
    "combined_data.insert(2, \"ZipCode\",\"\")\n",
    "\n",
    "# convert city column value to get city name only\n",
    "#combined_data['City'] = combined_data['City'].replace(['40.71958611647166, -74.04311746358871', '40.71958611647166, -74.04311746358871', '40.71958611647166, -74.04311746358871', '40.71958611647166, -74.04311746358871'], ['Jersey City', 'Jersey City', 'Jersey City', 'Jersey City'])\n",
    "\n",
    "# combined_data.head()"
   ]
  },
  {
   "cell_type": "code",
   "execution_count": null,
   "metadata": {},
   "outputs": [],
   "source": [
    "# slice the dataframe to get the first 100 rows\n",
    "# combined_data = combined_data.iloc[0:10]\n",
    "# print(len(combined_data))\n",
    "\n",
    "# write a loop to add city name and zip code to the dataframe\n",
    "for index, row in combined_data.iterrows():\n",
    "    cityzip = ah.get_city_zip(row[\"start station latitude\"], row[\"start station longitude\"])\n",
    "    combined_data.loc[index, \"City\"] = cityzip[0]\n",
    "    combined_data.loc[index, \"ZipCode\"] = cityzip[1]\n",
    "\n",
    "combined_data.head()"
   ]
  },
  {
   "cell_type": "code",
   "execution_count": null,
   "metadata": {},
   "outputs": [],
   "source": [
    "# load the combined feb-may  data into a csv file\n",
    "combined_feb_may = pd.read_csv(Path(\"combined_feb_may.csv\"))\n",
    "   \n",
    "# get data where city length is greater than 0 and zipcode length is equal to 0\n",
    "missingzip = combined_feb_may[(combined_feb_may['City'].str.len() > 0) & (combined_feb_may['ZipCode'].isnull())]\n",
    "# get data where ZipCode as float64 column is empty\n",
    "# missingzip = missingzip['ZipCode'].isnull()\n",
    "missingzip.head(None)\n"
   ]
  },
  {
   "cell_type": "code",
   "execution_count": 46,
   "metadata": {},
   "outputs": [
    {
     "data": {
      "text/plain": [
       "('Jersey City', '')"
      ]
     },
     "execution_count": 46,
     "metadata": {},
     "output_type": "execute_result"
    }
   ],
   "source": [
    "cz = ah.get_city_zip(40.72534, -74.067622)\n",
    "cz"
   ]
  },
  {
   "cell_type": "code",
   "execution_count": 25,
   "metadata": {},
   "outputs": [],
   "source": [
    "# create subsets of csv data\n",
    "numOfLines = 50\n",
    "divby = 1000\n",
    "jan_subset = pd.read_csv(jan_data_path, nrows=(len(jan_data)//divby))\n",
    "feb_subset = pd.read_csv(feb_data_path, nrows=(len(feb_data)//divby))\n",
    "mar_subset = pd.read_csv(mar_data_path, nrows=(len(mar_data)//divby))\n",
    "apr_subset = pd.read_csv(apr_data_path, nrows=(len(apr_data)//divby))\n",
    "may_subset = pd.read_csv(may_data_path, nrows=(len(mar_data)//divby))\n"
   ]
  },
  {
   "cell_type": "code",
   "execution_count": 15,
   "metadata": {},
   "outputs": [],
   "source": [
    "# # insert Month column\n",
    "# jan_subset.insert(0, \"Month\", \"Jan\")\n",
    "# feb_subset.insert(0, \"Month\", \"Feb\")\n",
    "# mar_subset.insert(0, \"Month\", \"Mar\")\n",
    "# apr_subset.insert(0, \"Month\", \"Apr\")\n",
    "# may_subset.insert(0, \"Month\", \"May\")"
   ]
  },
  {
   "cell_type": "code",
   "execution_count": null,
   "metadata": {},
   "outputs": [],
   "source": [
    "# create a dataframe of all the subsets and add Month as first column\n",
    "frames = [jan_subset, feb_subset, mar_subset, apr_subset, may_subset]\n",
    "df = pd.concat(frames)\n",
    "# add month column as first column and name it based on the month in the starttime column\n",
    "df.insert(0, \"Month\", df['starttime'].str[5:7])\n",
    "# convert month column value to full month name\n",
    "df['Month'] = df['Month'].replace(['01', '02', '03', '04', '05'], ['Jan', 'Feb', 'Mar', 'Apr', 'May'])\n",
    "\n",
    "# df.to_csv('combined_subset.csv', index=False)\n",
    "df.head(None)\n"
   ]
  },
  {
   "cell_type": "code",
   "execution_count": 40,
   "metadata": {},
   "outputs": [],
   "source": [
    "# create a dataframe that groupby Month and return the size of each month\n",
    "df_groupby = combined_data.groupby('Month').size()\n",
    "# name size column to Total Trips\n",
    "df_groupby = df_groupby.rename('Total Trips')\n",
    "# reset index to make Month a column\n",
    "df_groupby = df_groupby.reset_index()\n",
    "# save to csv\n",
    "df_groupby.to_csv('total_trips.csv', index=False)\n"
   ]
  },
  {
   "cell_type": "code",
   "execution_count": 39,
   "metadata": {},
   "outputs": [],
   "source": [
    "# create a dataframe grouped by usertype and month\n",
    "df_groupby_usertype = combined_data.groupby(['Month', 'usertype']).size()\n",
    "# name size column to Trips\n",
    "df_groupby_usertype = df_groupby_usertype.rename('Trips')\n",
    "# reset index to make Month and usertype a column\n",
    "df_groupby_usertype = df_groupby_usertype.reset_index()\n",
    "# save to csv\n",
    "df_groupby_usertype.to_csv('trips_by_usertype.csv', index=False)\n"
   ]
  },
  {
   "cell_type": "code",
   "execution_count": 38,
   "metadata": {},
   "outputs": [],
   "source": [
    "# get start stations\n",
    "df_startstations = combined_data.groupby(['start station name']).size()\n",
    "# name size column to Trips\n",
    "df_startstations = df_startstations.rename('Trips')\n",
    "# reset index to make start station name a column\n",
    "df_startstations = df_startstations.reset_index()\n",
    "# save to csv\n",
    "df_startstations.to_csv('start_stations.csv', index=False)\n"
   ]
  },
  {
   "cell_type": "code",
   "execution_count": 17,
   "metadata": {},
   "outputs": [],
   "source": [
    "# # create combined csv file\n",
    "# # combined_data = combined_data.append(feb_subset, ignore_index=True)\n",
    "# # combined_data = combined_data.append(mar_subset, ignore_index=True)\n",
    "# # combined_data = combined_data.append(apr_subset, ignore_index=True)\n",
    "\n",
    "# dfs = []\n",
    "# dfs.append(feb_subset)\n",
    "# dfs.append(mar_subset)\n",
    "# dfs.append(apr_subset)\n",
    "# dfs.append(may_subset)\n",
    "\n",
    "# df_combined = pd.concat(dfs, ignore_index=True)\n",
    "# df_combined.to_csv(\"combined_data.csv\", index=False)\n",
    "\n",
    "# # create subsets from each csv file\n",
    "# jan_subset.to_csv(\"jan_subset.csv\")\n",
    "# feb_subset.to_csv(\"feb_subset.csv\")\n",
    "# mar_subset.to_csv(\"mar_subset.csv\")\n",
    "# apr_subset.to_csv(\"apr_subset.csv\")\n",
    "# may_subset.to_csv(\"may_subset.csv\")"
   ]
  },
  {
   "cell_type": "code",
   "execution_count": 18,
   "metadata": {},
   "outputs": [],
   "source": [
    "# # create groupby start station name with number of rows for each station\n",
    "# grp = apr_data.groupby(\"start station name\").size()\n",
    "\n",
    "# # df_trips = grp.map(\"{:,}\".format).to_frame(\"Trips\")\n",
    "# grp.to_csv(\"apr_startstations.csv\")\n",
    "# # df_trips = grp.to_frame(\"Trips\").sort_values([\"Trips\"], ascending=False)\n",
    "# # df_trips.head(None)"
   ]
  },
  {
   "cell_type": "code",
   "execution_count": 19,
   "metadata": {},
   "outputs": [],
   "source": [
    "# # jan_data.sort_values(\"start station name\", inplace=False)\n",
    "# # janfilter = jan_data[\"start station name\"]==\"Astor Place\"\n",
    "# # janfilter.count()\n",
    "# # jancount = jan_data[(jan_data[\"start station name\"]==\"Astor Place\")]\n",
    "# # groupby start station name with number of rows for each station\n",
    "# jan_grouped = jan_data.groupby(\"start station name\").count()\n",
    "# jan_grouped = jan_grouped.sort_values(\"tripduration\", ascending=False).reset_index()\n",
    "# # include only station name and number of rows\n",
    "# jan_grouped = jan_grouped[[\"start station name\", \"tripduration\"]]\n",
    "# jan_grouped.head(10)\n"
   ]
  },
  {
   "cell_type": "code",
   "execution_count": 20,
   "metadata": {},
   "outputs": [],
   "source": [
    "# # get number of unique stations\n",
    "# start_ids = jan_data.groupby([\"start station name\"]).count()\n",
    "# end_ids = jan_data.groupby([\"end station name\"])\n",
    "# print(len(start_ids))\n",
    "# print(len(end_ids))\n",
    "# start_ids.head()\n"
   ]
  }
 ],
 "metadata": {
  "kernelspec": {
   "display_name": "Python 3",
   "language": "python",
   "name": "python3"
  },
  "language_info": {
   "codemirror_mode": {
    "name": "ipython",
    "version": 3
   },
   "file_extension": ".py",
   "mimetype": "text/x-python",
   "name": "python",
   "nbconvert_exporter": "python",
   "pygments_lexer": "ipython3",
   "version": "3.11.3"
  },
  "orig_nbformat": 4
 },
 "nbformat": 4,
 "nbformat_minor": 2
}
