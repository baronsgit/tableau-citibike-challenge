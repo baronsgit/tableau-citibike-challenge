{
 "cells": [
  {
   "cell_type": "code",
   "execution_count": 1,
   "metadata": {},
   "outputs": [],
   "source": [
    "import pandas as pd\n",
    "from pathlib import Path\n"
   ]
  },
  {
   "cell_type": "code",
   "execution_count": 2,
   "metadata": {},
   "outputs": [],
   "source": [
    "jan_data_path = Path(\"Data/JC-202001-citibike-tripdata.csv\")\n",
    "feb_data_path = Path(\"Data/JC-202002-citibike-tripdata.csv\")\n",
    "mar_data_path = Path(\"Data/JC-202003-citibike-tripdata.csv\")\n",
    "apr_data_path = Path(\"Data/JC-202004-citibike-tripdata.csv\")\n",
    "may_data_path = Path(\"Data/JC-202005-citibike-tripdata.csv\")\n",
    "\n",
    "jan_data = pd.read_csv(jan_data_path)\n",
    "feb_data = pd.read_csv(feb_data_path)\n",
    "mar_data = pd.read_csv(mar_data_path)\n",
    "apr_data = pd.read_csv(apr_data_path)\n",
    "may_data = pd.read_csv(may_data_path)"
   ]
  },
  {
   "cell_type": "code",
   "execution_count": 3,
   "metadata": {},
   "outputs": [
    {
     "name": "stdout",
     "output_type": "stream",
     "text": [
      "January 2020: (26020, 15)\n",
      "February 2020: (22962, 15)\n",
      "March 2020: (17719, 15)\n",
      "April 2020: (9268, 15)\n",
      "May 2020: (25077, 15)\n"
     ]
    }
   ],
   "source": [
    "print(f'January 2020: {jan_data.shape}')\n",
    "print(f'February 2020: {feb_data.shape}')\n",
    "print(f'March 2020: {mar_data.shape}')\n",
    "print(f'April 2020: {apr_data.shape}')\n",
    "print(f'May 2020: {may_data.shape}')"
   ]
  },
  {
   "cell_type": "code",
   "execution_count": 4,
   "metadata": {},
   "outputs": [],
   "source": [
    "# create subsets of csv data\n",
    "numOfLines = 50\n",
    "divby = 1000\n",
    "jan_subset = pd.read_csv(jan_data_path, nrows=(len(jan_data)//divby))\n",
    "feb_subset = pd.read_csv(feb_data_path, nrows=(len(feb_data)//divby))\n",
    "mar_subset = pd.read_csv(mar_data_path, nrows=(len(mar_data)//divby))\n",
    "apr_subset = pd.read_csv(apr_data_path, nrows=(len(apr_data)//divby))\n",
    "may_subset = pd.read_csv(may_data_path, nrows=(len(mar_data)//divby))\n"
   ]
  },
  {
   "cell_type": "code",
   "execution_count": 5,
   "metadata": {},
   "outputs": [],
   "source": [
    "# insert Month column\n",
    "jan_subset.insert(0, \"Month\", \"Jan\")\n",
    "feb_subset.insert(0, \"Month\", \"Feb\")\n",
    "mar_subset.insert(0, \"Month\", \"Mar\")\n",
    "apr_subset.insert(0, \"Month\", \"Apr\")\n",
    "may_subset.insert(0, \"Month\", \"May\")\n"
   ]
  },
  {
   "cell_type": "code",
   "execution_count": 6,
   "metadata": {},
   "outputs": [],
   "source": [
    "# # create combined csv file\n",
    "# # combined_data = combined_data.append(feb_subset, ignore_index=True)\n",
    "# # combined_data = combined_data.append(mar_subset, ignore_index=True)\n",
    "# # combined_data = combined_data.append(apr_subset, ignore_index=True)\n",
    "\n",
    "# dfs = []\n",
    "# dfs.append(feb_subset)\n",
    "# dfs.append(mar_subset)\n",
    "# dfs.append(apr_subset)\n",
    "# dfs.append(may_subset)\n",
    "\n",
    "# df_combined = pd.concat(dfs, ignore_index=True)\n",
    "# df_combined.to_csv(\"combined_data.csv\", index=False)\n",
    "\n",
    "# # create subsets from each csv file\n",
    "# jan_subset.to_csv(\"jan_subset.csv\")\n",
    "# feb_subset.to_csv(\"feb_subset.csv\")\n",
    "# mar_subset.to_csv(\"mar_subset.csv\")\n",
    "# apr_subset.to_csv(\"apr_subset.csv\")\n",
    "# may_subset.to_csv(\"may_subset.csv\")"
   ]
  },
  {
   "cell_type": "code",
   "execution_count": 7,
   "metadata": {},
   "outputs": [],
   "source": [
    "# # create groupby start station name with number of rows for each station\n",
    "# grp = apr_data.groupby(\"start station name\").size()\n",
    "\n",
    "# # df_trips = grp.map(\"{:,}\".format).to_frame(\"Trips\")\n",
    "# grp.to_csv(\"apr_startstations.csv\")\n",
    "# # df_trips = grp.to_frame(\"Trips\").sort_values([\"Trips\"], ascending=False)\n",
    "# # df_trips.head(None)"
   ]
  },
  {
   "cell_type": "code",
   "execution_count": 8,
   "metadata": {},
   "outputs": [],
   "source": [
    "# # jan_data.sort_values(\"start station name\", inplace=False)\n",
    "# # janfilter = jan_data[\"start station name\"]==\"Astor Place\"\n",
    "# # janfilter.count()\n",
    "# # jancount = jan_data[(jan_data[\"start station name\"]==\"Astor Place\")]\n",
    "# # groupby start station name with number of rows for each station\n",
    "# jan_grouped = jan_data.groupby(\"start station name\").count()\n",
    "# jan_grouped = jan_grouped.sort_values(\"tripduration\", ascending=False).reset_index()\n",
    "# # include only station name and number of rows\n",
    "# jan_grouped = jan_grouped[[\"start station name\", \"tripduration\"]]\n",
    "# jan_grouped.head(10)\n"
   ]
  },
  {
   "cell_type": "code",
   "execution_count": 9,
   "metadata": {},
   "outputs": [],
   "source": [
    "# # get number of unique stations\n",
    "# start_ids = jan_data.groupby([\"start station name\"]).count()\n",
    "# end_ids = jan_data.groupby([\"end station name\"])\n",
    "# print(len(start_ids))\n",
    "# print(len(end_ids))\n",
    "# start_ids.head()\n"
   ]
  }
 ],
 "metadata": {
  "kernelspec": {
   "display_name": "Python 3",
   "language": "python",
   "name": "python3"
  },
  "language_info": {
   "codemirror_mode": {
    "name": "ipython",
    "version": 3
   },
   "file_extension": ".py",
   "mimetype": "text/x-python",
   "name": "python",
   "nbconvert_exporter": "python",
   "pygments_lexer": "ipython3",
   "version": "3.11.3"
  },
  "orig_nbformat": 4
 },
 "nbformat": 4,
 "nbformat_minor": 2
}
