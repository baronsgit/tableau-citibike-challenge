{
 "cells": [
  {
   "cell_type": "code",
   "execution_count": 17,
   "metadata": {},
   "outputs": [],
   "source": [
    "import pandas as pd\n",
    "from pathlib import Path\n",
    "import AppHelpers as ah"
   ]
  },
  {
   "cell_type": "code",
   "execution_count": 18,
   "metadata": {},
   "outputs": [],
   "source": [
    "# load citibike data for each month\n",
    "jan_data_path = Path(\"Data/JC-202001-citibike-tripdata.csv\")\n",
    "feb_data_path = Path(\"Data/JC-202002-citibike-tripdata.csv\")\n",
    "mar_data_path = Path(\"Data/JC-202003-citibike-tripdata.csv\")\n",
    "apr_data_path = Path(\"Data/JC-202004-citibike-tripdata.csv\")\n",
    "may_data_path = Path(\"Data/JC-202005-citibike-tripdata.csv\")\n",
    "\n",
    "jan_data = pd.read_csv(jan_data_path)\n",
    "feb_data = pd.read_csv(feb_data_path)\n",
    "mar_data = pd.read_csv(mar_data_path)\n",
    "apr_data = pd.read_csv(apr_data_path)\n",
    "may_data = pd.read_csv(may_data_path)\n",
    "\n",
    "# Combine all data into a single DataFrame\n",
    "combined_data = pd.concat([feb_data, mar_data, apr_data, may_data], ignore_index=True)\n",
    "\n",
    "# load citibike stations data\n",
    "stations_data = pd.read_csv(\"Resources/citibike_stations.csv\")\n",
    "\n",
    "# add month column as first column and name it based on the month in the starttime column\n",
    "combined_data.insert(0, \"Month\", combined_data['starttime'].str[5:7])\n",
    "# convert month column value to full month name\n",
    "combined_data['Month'] = combined_data['Month'].replace(['02', '03', '04', '05'], ['Feb', 'Mar', 'Apr', 'May'])\n",
    "\n",
    "# add start station and end station city and zipcode columns\n",
    "combined_data.insert(1, \"start_station_city\",\"\")\n",
    "combined_data.insert(2, \"start_station_zipcode\",\"\")\n",
    "combined_data.insert(3, \"end_station_city\",\"\")\n",
    "combined_data.insert(4, \"end_station_zipcode\",\"\")\n",
    "\n",
    "# combined_data.head()\n"
   ]
  },
  {
   "cell_type": "code",
   "execution_count": null,
   "metadata": {},
   "outputs": [],
   "source": [
    "# slice the dataframe to get the first 100 rows\n",
    "# combined_data = combined_data.iloc[0:50]\n",
    "print(len(combined_data))\n",
    "\n",
    "# populate the start station city and zipcode and end station city and zipcode columns with the values from stations_data based on the station id\n",
    "for index, row in combined_data.iterrows():\n",
    "    start_station_id = row[\"start station id\"]\n",
    "    end_station_id = row[\"end station id\"]\n",
    "    start_station = stations_data.loc[stations_data[\"station_id\"] == start_station_id]\n",
    "    end_station = stations_data.loc[stations_data[\"station_id\"] == end_station_id]\n",
    "    combined_data.loc[index, \"start_station_city\"] = start_station[\"city\"].values[0]\n",
    "    combined_data.loc[index, \"start_station_zipcode\"] = start_station[\"zipcode\"].values[0]\n",
    "    combined_data.loc[index, \"end_station_city\"] = end_station[\"city\"].values[0]\n",
    "    combined_data.loc[index, \"end_station_zipcode\"] = end_station[\"zipcode\"].values[0]\n",
    "\n",
    "combined_data.head()\n"
   ]
  },
  {
   "cell_type": "code",
   "execution_count": 20,
   "metadata": {},
   "outputs": [],
   "source": [
    "# save the combined data to a csv file\n",
    "combined_data.to_csv(\"citibike_combined_data.csv\", index=False)"
   ]
  }
 ],
 "metadata": {
  "kernelspec": {
   "display_name": "Python 3",
   "language": "python",
   "name": "python3"
  },
  "language_info": {
   "codemirror_mode": {
    "name": "ipython",
    "version": 3
   },
   "file_extension": ".py",
   "mimetype": "text/x-python",
   "name": "python",
   "nbconvert_exporter": "python",
   "pygments_lexer": "ipython3",
   "version": "3.11.3"
  },
  "orig_nbformat": 4
 },
 "nbformat": 4,
 "nbformat_minor": 2
}
