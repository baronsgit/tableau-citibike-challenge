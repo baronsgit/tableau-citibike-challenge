{
 "cells": [
  {
   "cell_type": "code",
   "execution_count": 6,
   "metadata": {},
   "outputs": [],
   "source": [
    "import pandas as pd\n",
    "from pathlib import Path\n",
    "import glob"
   ]
  },
  {
   "cell_type": "code",
   "execution_count": 12,
   "metadata": {},
   "outputs": [],
   "source": [
    "jan_data_path = Path(\"Data/JC-202001-citibike-tripdata.csv\")\n",
    "feb_data_path = Path(\"Data/JC-202002-citibike-tripdata.csv\")\n",
    "mar_data_path = Path(\"Data/JC-202003-citibike-tripdata.csv\")\n",
    "apr_data_path = Path(\"Data/JC-202004-citibike-tripdata.csv\")\n",
    "may_data_path = Path(\"Data/JC-202005-citibike-tripdata.csv\")\n",
    "\n",
    "jan_data = pd.read_csv(jan_data_path)\n",
    "feb_data = pd.read_csv(feb_data_path)\n",
    "mar_data = pd.read_csv(mar_data_path)\n",
    "apr_data = pd.read_csv(apr_data_path)\n",
    "may_data = pd.read_csv(may_data_path)"
   ]
  },
  {
   "cell_type": "code",
   "execution_count": 13,
   "metadata": {},
   "outputs": [
    {
     "name": "stdout",
     "output_type": "stream",
     "text": [
      "January 2020: (26020, 15)\n",
      "February 2020: (22962, 15)\n",
      "March 2020: (17719, 15)\n",
      "April 2020: (9268, 15)\n",
      "May 2020: (25077, 15)\n"
     ]
    }
   ],
   "source": [
    "print(f'January 2020: {jan_data.shape}')\n",
    "print(f'February 2020: {feb_data.shape}')\n",
    "print(f'March 2020: {mar_data.shape}')\n",
    "print(f'April 2020: {apr_data.shape}')\n",
    "print(f'May 2020: {may_data.shape}')"
   ]
  },
  {
   "cell_type": "code",
   "execution_count": 16,
   "metadata": {},
   "outputs": [],
   "source": [
    "# create subsets of csv data\n",
    "numOfLines = 50\n",
    "divby = 1000\n",
    "jan_subset = pd.read_csv(jan_data_path, nrows=(len(jan_data)//divby))\n",
    "feb_subset = pd.read_csv(feb_data_path, nrows=(len(feb_data)//divby))\n",
    "mar_subset = pd.read_csv(mar_data_path, nrows=(len(mar_data)//divby))\n",
    "apr_subset = pd.read_csv(apr_data_path, nrows=(len(apr_data)//divby))\n",
    "may_subset = pd.read_csv(may_data_path, nrows=(len(mar_data)//divby))\n"
   ]
  },
  {
   "cell_type": "code",
   "execution_count": 17,
   "metadata": {},
   "outputs": [],
   "source": [
    "# create combined csv file\n",
    "# combined_data = combined_data.append(feb_subset, ignore_index=True)\n",
    "# combined_data = combined_data.append(mar_subset, ignore_index=True)\n",
    "# combined_data = combined_data.append(apr_subset, ignore_index=True)\n",
    "dfs = []\n",
    "dfs.append(feb_subset)\n",
    "dfs.append(mar_subset)\n",
    "dfs.append(apr_subset)\n",
    "\n",
    "df_combined = pd.concat(dfs, ignore_index=True)\n",
    "df_combined.to_csv(\"combined_data.csv\", index=False)\n"
   ]
  },
  {
   "cell_type": "code",
   "execution_count": 18,
   "metadata": {},
   "outputs": [],
   "source": [
    "# create subsets from each csv file\n",
    "jan_subset.to_csv(\"jan_subset.csv\")\n",
    "feb_subset.to_csv(\"feb_subset.csv\")\n",
    "mar_subset.to_csv(\"mar_subset.csv\")\n",
    "apr_subset.to_csv(\"apr_subset.csv\")\n",
    "may_subset.to_csv(\"may_subset.csv\")\n"
   ]
  },
  {
   "cell_type": "code",
   "execution_count": null,
   "metadata": {},
   "outputs": [],
   "source": [
    "# get number of unique stations\n",
    "start_ids = jan_data.groupby([\"start station id\"])\n",
    "end_ids = jan_data.groupby([\"end station id\"])\n",
    "print(len(start_ids))\n",
    "print(len(end_ids))"
   ]
  },
  {
   "cell_type": "code",
   "execution_count": null,
   "metadata": {},
   "outputs": [],
   "source": [
    "jan_data.describe()"
   ]
  },
  {
   "cell_type": "code",
   "execution_count": null,
   "metadata": {},
   "outputs": [],
   "source": [
    "jan_data.head(50)"
   ]
  },
  {
   "cell_type": "code",
   "execution_count": null,
   "metadata": {},
   "outputs": [],
   "source": [
    "feb_data.head(50)"
   ]
  }
 ],
 "metadata": {
  "kernelspec": {
   "display_name": "Python 3",
   "language": "python",
   "name": "python3"
  },
  "language_info": {
   "codemirror_mode": {
    "name": "ipython",
    "version": 3
   },
   "file_extension": ".py",
   "mimetype": "text/x-python",
   "name": "python",
   "nbconvert_exporter": "python",
   "pygments_lexer": "ipython3",
   "version": "3.11.3"
  },
  "orig_nbformat": 4
 },
 "nbformat": 4,
 "nbformat_minor": 2
}
